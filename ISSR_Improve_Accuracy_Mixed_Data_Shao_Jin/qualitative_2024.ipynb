{
  "nbformat": 4,
  "nbformat_minor": 0,
  "metadata": {
    "colab": {
      "provenance": []
    },
    "kernelspec": {
      "name": "python3",
      "display_name": "Python 3"
    },
    "language_info": {
      "name": "python"
    }
  },
  "cells": [
    {
      "cell_type": "code",
      "execution_count": null,
      "metadata": {
        "colab": {
          "base_uri": "https://localhost:8080/"
        },
        "id": "uWH4nHf82utK",
        "outputId": "a21e95fb-ac28-4a7a-8275-81aeac9ec90f"
      },
      "outputs": [
        {
          "output_type": "stream",
          "name": "stdout",
          "text": [
            "Drive already mounted at /content/drive/; to attempt to forcibly remount, call drive.mount(\"/content/drive/\", force_remount=True).\n"
          ]
        }
      ],
      "source": [
        "from google.colab import drive\n",
        "drive.mount('/content/drive/')"
      ]
    },
    {
      "cell_type": "markdown",
      "source": [
        "Survey question example for qualitative analysis.\n",
        "\n",
        "\"What are your opinions on the health impacts of traditional smoking versus vaping?\""
      ],
      "metadata": {
        "id": "K9uXfaBp7LlG"
      }
    },
    {
      "cell_type": "code",
      "source": [
        "!pip install nltk\n",
        "!pip install openai pandas"
      ],
      "metadata": {
        "colab": {
          "base_uri": "https://localhost:8080/"
        },
        "id": "KxCHC-HxGOW3",
        "outputId": "d9a33558-d613-4909-e73f-80b39d6eef77"
      },
      "execution_count": null,
      "outputs": [
        {
          "output_type": "stream",
          "name": "stdout",
          "text": [
            "Requirement already satisfied: nltk in /usr/local/lib/python3.10/dist-packages (3.8.1)\n",
            "Requirement already satisfied: click in /usr/local/lib/python3.10/dist-packages (from nltk) (8.1.7)\n",
            "Requirement already satisfied: joblib in /usr/local/lib/python3.10/dist-packages (from nltk) (1.4.2)\n",
            "Requirement already satisfied: regex>=2021.8.3 in /usr/local/lib/python3.10/dist-packages (from nltk) (2024.5.15)\n",
            "Requirement already satisfied: tqdm in /usr/local/lib/python3.10/dist-packages (from nltk) (4.66.5)\n",
            "Requirement already satisfied: openai in /usr/local/lib/python3.10/dist-packages (1.40.6)\n",
            "Requirement already satisfied: pandas in /usr/local/lib/python3.10/dist-packages (2.1.4)\n",
            "Requirement already satisfied: anyio<5,>=3.5.0 in /usr/local/lib/python3.10/dist-packages (from openai) (3.7.1)\n",
            "Requirement already satisfied: distro<2,>=1.7.0 in /usr/lib/python3/dist-packages (from openai) (1.7.0)\n",
            "Requirement already satisfied: httpx<1,>=0.23.0 in /usr/local/lib/python3.10/dist-packages (from openai) (0.27.0)\n",
            "Requirement already satisfied: jiter<1,>=0.4.0 in /usr/local/lib/python3.10/dist-packages (from openai) (0.5.0)\n",
            "Requirement already satisfied: pydantic<3,>=1.9.0 in /usr/local/lib/python3.10/dist-packages (from openai) (2.8.2)\n",
            "Requirement already satisfied: sniffio in /usr/local/lib/python3.10/dist-packages (from openai) (1.3.1)\n",
            "Requirement already satisfied: tqdm>4 in /usr/local/lib/python3.10/dist-packages (from openai) (4.66.5)\n",
            "Requirement already satisfied: typing-extensions<5,>=4.11 in /usr/local/lib/python3.10/dist-packages (from openai) (4.12.2)\n",
            "Requirement already satisfied: numpy<2,>=1.22.4 in /usr/local/lib/python3.10/dist-packages (from pandas) (1.26.4)\n",
            "Requirement already satisfied: python-dateutil>=2.8.2 in /usr/local/lib/python3.10/dist-packages (from pandas) (2.8.2)\n",
            "Requirement already satisfied: pytz>=2020.1 in /usr/local/lib/python3.10/dist-packages (from pandas) (2024.1)\n",
            "Requirement already satisfied: tzdata>=2022.1 in /usr/local/lib/python3.10/dist-packages (from pandas) (2024.1)\n",
            "Requirement already satisfied: idna>=2.8 in /usr/local/lib/python3.10/dist-packages (from anyio<5,>=3.5.0->openai) (3.7)\n",
            "Requirement already satisfied: exceptiongroup in /usr/local/lib/python3.10/dist-packages (from anyio<5,>=3.5.0->openai) (1.2.2)\n",
            "Requirement already satisfied: certifi in /usr/local/lib/python3.10/dist-packages (from httpx<1,>=0.23.0->openai) (2024.7.4)\n",
            "Requirement already satisfied: httpcore==1.* in /usr/local/lib/python3.10/dist-packages (from httpx<1,>=0.23.0->openai) (1.0.5)\n",
            "Requirement already satisfied: h11<0.15,>=0.13 in /usr/local/lib/python3.10/dist-packages (from httpcore==1.*->httpx<1,>=0.23.0->openai) (0.14.0)\n",
            "Requirement already satisfied: annotated-types>=0.4.0 in /usr/local/lib/python3.10/dist-packages (from pydantic<3,>=1.9.0->openai) (0.7.0)\n",
            "Requirement already satisfied: pydantic-core==2.20.1 in /usr/local/lib/python3.10/dist-packages (from pydantic<3,>=1.9.0->openai) (2.20.1)\n",
            "Requirement already satisfied: six>=1.5 in /usr/local/lib/python3.10/dist-packages (from python-dateutil>=2.8.2->pandas) (1.16.0)\n"
          ]
        }
      ]
    },
    {
      "cell_type": "code",
      "source": [
        "!pip install gensim\n",
        "from gensim.models import KeyedVectors"
      ],
      "metadata": {
        "colab": {
          "base_uri": "https://localhost:8080/"
        },
        "id": "8IRQKETdRbvh",
        "outputId": "9cf204c4-0a2b-43c1-9a8a-c76909abff37"
      },
      "execution_count": null,
      "outputs": [
        {
          "output_type": "stream",
          "name": "stdout",
          "text": [
            "Requirement already satisfied: gensim in /usr/local/lib/python3.10/dist-packages (4.3.3)\n",
            "Requirement already satisfied: numpy<2.0,>=1.18.5 in /usr/local/lib/python3.10/dist-packages (from gensim) (1.26.4)\n",
            "Requirement already satisfied: scipy<1.14.0,>=1.7.0 in /usr/local/lib/python3.10/dist-packages (from gensim) (1.13.1)\n",
            "Requirement already satisfied: smart-open>=1.8.1 in /usr/local/lib/python3.10/dist-packages (from gensim) (7.0.4)\n",
            "Requirement already satisfied: wrapt in /usr/local/lib/python3.10/dist-packages (from smart-open>=1.8.1->gensim) (1.16.0)\n"
          ]
        }
      ]
    },
    {
      "cell_type": "code",
      "source": [
        "import re\n",
        "import nltk\n",
        "import spacy\n",
        "import numpy as np\n",
        "from nltk.corpus import stopwords\n",
        "from nltk.tokenize import word_tokenize\n",
        "from sklearn.feature_extraction.text import TfidfVectorizer\n",
        "from sklearn.model_selection import train_test_split\n",
        "from sklearn.linear_model import LogisticRegression\n",
        "from sklearn.metrics import accuracy_score, classification_report\n",
        "\n",
        "nltk.download('stopwords')\n",
        "nltk.download('punkt')\n",
        "\n",
        "# load spacy pre traning model\n",
        "nlp = spacy.load('en_core_web_sm')\n",
        "\n",
        "def clean_text(text):\n",
        "    text = text.lower()  # transform to lower letter\n",
        "    text = re.sub(r'\\d+', '', text)  # delete number\n",
        "    text = re.sub(r'[^\\w\\s]', '', text)  # delete punctuation\n",
        "    text = re.sub(r'\\s+', ' ', text).strip()  # delete extra parathesis\n",
        "    return text\n"
      ],
      "metadata": {
        "id": "fk96JuxQ4XJc",
        "colab": {
          "base_uri": "https://localhost:8080/"
        },
        "outputId": "d98a016d-5b4f-4a12-b737-09cf8625c34a"
      },
      "execution_count": null,
      "outputs": [
        {
          "output_type": "stream",
          "name": "stderr",
          "text": [
            "[nltk_data] Downloading package stopwords to /root/nltk_data...\n",
            "[nltk_data]   Package stopwords is already up-to-date!\n",
            "[nltk_data] Downloading package punkt to /root/nltk_data...\n",
            "[nltk_data]   Package punkt is already up-to-date!\n"
          ]
        }
      ]
    },
    {
      "cell_type": "markdown",
      "source": [
        "I generate the train data and label it into four categories:\n",
        "\n",
        "0: Negative effects of traditional smoking\n",
        "1: Negative effects of e-cigarettes\n",
        "2: Positive effects of e-cigarettes\n",
        "3: Non-committal (or don't know)"
      ],
      "metadata": {
        "id": "pcgVjtIaEfoi"
      }
    },
    {
      "cell_type": "code",
      "source": [
        "import pandas as pd\n",
        "\n",
        "# text and its corresponding label\n",
        "data = [\n",
        "    [\"Traditional smoking is very harmful to health.\", 0],\n",
        "    [\"Vaping is considered less harmful than traditional smoking.\", 2],\n",
        "    [\"I think vaping is still bad for health.\", 1],\n",
        "    [\"Smoking can cause lung cancer and other serious diseases.\", 0],\n",
        "    [\"Some believe vaping is a safer alternative to smoking.\", 2],\n",
        "    [\"Both smoking and vaping are harmful in different ways.\", 3],\n",
        "    [\"I find that vaping helps me reduce smoking.\", 2],\n",
        "    [\"Traditional smoking is addictive and very dangerous.\", 0],\n",
        "    [\"Vaping flavors make it more appealing, but it's not risk-free.\", 1],\n",
        "    [\"I quit smoking thanks to vaping, and I feel healthier.\", 2],\n",
        "    [\"Smoking has a long history of health risks.\", 0],\n",
        "    [\"The long-term health impacts of vaping are still unknown.\", 1],\n",
        "    [\"Vaping has helped many people quit smoking, but it's not entirely safe.\", 2],\n",
        "    [\"Smoking damages your lungs severely.\", 0],\n",
        "    [\"Vaping is seen as a lesser evil compared to smoking.\", 2],\n",
        "    [\"There is a lot of debate about vaping being safer than smoking.\", 3],\n",
        "    [\"I believe vaping is a good way to quit traditional smoking.\", 2],\n",
        "    [\"Smoking is more harmful than vaping according to some studies.\", 1],\n",
        "    [\"Vaping can still lead to nicotine addiction.\", 1],\n",
        "    [\"Many people use vaping to help them stop smoking.\", 2],\n",
        "    [\"Smoking in public places should be banned.\", 0],\n",
        "    [\"Vaping might cause health problems that we don't know about yet.\", 1],\n",
        "    [\"Some people think vaping is a gateway to smoking.\", 3],\n",
        "    [\"There is no safe level of smoking.\", 0],\n",
        "    [\"Electronic cigarettes are not risk-free.\", 1],\n",
        "    [\"I find it hard to quit smoking, even with vaping.\", 0],\n",
        "    [\"Vaping can be an effective tool to quit smoking.\", 2],\n",
        "    [\"The impact of vaping on youth is concerning.\", 1],\n",
        "    [\"Vaping should be regulated like traditional cigarettes.\", 3],\n",
        "    [\"Some studies suggest vaping is less harmful, but more research is needed.\", 3],\n",
        "    [\"Smoking while pregnant can harm the baby.\", 0],\n",
        "    [\"Vaping devices sometimes explode, causing injuries.\", 1],\n",
        "    [\"Second-hand smoke from traditional cigarettes is dangerous.\", 0],\n",
        "    [\"Vaping can lead to dry mouth and throat irritation.\", 1],\n",
        "    [\"Quitting smoking improves lung function.\", 2],\n",
        "    [\"Vaping in enclosed spaces should be restricted.\", 3],\n",
        "    [\"Smoking causes yellow teeth and bad breath.\", 0],\n",
        "    [\"Vaping has not been proven to be effective in the long term.\", 1],\n",
        "    [\"Parents should discourage their children from vaping.\", 1],\n",
        "    [\"Smoking-related diseases are a major public health concern.\", 0],\n",
        "    [\"The flavors in vaping products attract young people.\", 1],\n",
        "    [\"Vaping is marketed as a healthier alternative, but we need more evidence.\", 3],\n",
        "    [\"Traditional cigarettes have over 7000 chemicals.\", 0],\n",
        "    [\"Vaping may help smokers quit, but it's not a perfect solution.\", 2],\n",
        "    [\"Smoking is a leading cause of preventable death worldwide.\", 0],\n",
        "    [\"There is a lack of regulation on vaping products.\", 1],\n",
        "    [\"Nicotine in vaping products is addictive.\", 1],\n",
        "    [\"Some believe vaping can cause popcorn lung.\", 1],\n",
        "    [\"Vaping can lead to nicotine addiction.\", 1],\n",
        "    [\"Smoking causes various types of cancer.\", 0],\n",
        "    [\"Vaping is less harmful than smoking, but still risky.\", 3],\n",
        "    [\"Many studies show the dangers of smoking.\", 0],\n",
        "    [\"Vaping has its own set of health risks.\", 1],\n",
        "    [\"Smoking affects not only the smoker but also those around them.\", 0],\n",
        "    [\"Vaping should not be considered completely safe.\", 1],\n",
        "    [\"Smoking is a difficult habit to break.\", 0],\n",
        "    [\"Vaping has helped some quit smoking, though not all.\", 2],\n",
        "    [\"Traditional smoking has numerous harmful effects.\", 0],\n",
        "    [\"The debate over vaping's safety continues.\", 3],\n",
        "    [\"Vaping could potentially be a less harmful option.\", 2],\n",
        "    [\"Smoking remains a significant health risk.\", 0],\n",
        "    [\"Vaping is not a foolproof method for quitting smoking.\", 1],\n",
        "    [\"Traditional cigarettes are highly addictive.\", 0],\n",
        "    [\"Vaping might reduce smoking, but with unknown long-term effects.\", 3],\n",
        "    [\"Smoking's impact on health is well-documented.\", 0],\n",
        "    [\"Vaping's appeal to young people is concerning.\", 1],\n",
        "    [\"There is still much to learn about the long-term effects of vaping.\", 1],\n",
        "    [\"Smoking has immediate and long-term health consequences.\", 0],\n",
        "    [\"Vaping can be a stepping stone to quitting smoking.\", 2],\n",
        "    [\"Second-hand vapor from e-cigarettes is also a concern.\", 1],\n",
        "    [\"Many view vaping as a lesser evil compared to smoking.\", 3],\n",
        "    [\"The risks associated with vaping are still being studied.\", 1],\n",
        "    [\"Smoking has been linked to heart disease.\", 0],\n",
        "    [\"Vaping's safety profile is not fully understood.\", 1],\n",
        "    [\"Traditional smoking can lead to chronic diseases.\", 0],\n",
        "    [\"Some people successfully quit smoking using vaping.\", 2],\n",
        "    [\"There is a push for stricter regulations on vaping.\", 3],\n",
        "    [\"Smoking is harmful in any amount.\", 0],\n",
        "    [\"Vaping products vary in quality and safety.\", 1],\n",
        "    [\"Nicotine addiction is a common issue with vaping.\", 1],\n",
        "    [\"Smoking has a significant negative impact on health.\", 0],\n",
        "    [\"Many believe vaping is a safer alternative to smoking.\", 2],\n",
        "    [\"The effects of vaping on health need more research.\", 1],\n",
        "    [\"Smoking cessation programs often include vaping as an option.\", 2],\n",
        "    [\"The harmful effects of smoking are widely known.\", 0],\n",
        "    [\"Vaping is not without its risks.\", 1],\n",
        "    [\"Smoking can shorten your lifespan.\", 0],\n",
        "    [\"Vaping has been beneficial for some smokers.\", 2],\n",
        "    [\"There are ongoing studies about vaping's long-term impact.\", 3],\n",
        "    [\"Traditional smoking leads to severe health issues.\", 0],\n",
        "    [\"Vaping has its share of health concerns.\", 1],\n",
        "    [\"The benefits of vaping for quitting smoking are debated.\", 3],\n",
        "    [\"Smoking is a leading cause of cancer.\", 0],\n",
        "    [\"Vaping may help with smoking cessation.\", 2],\n",
        "    [\"The public health impact of vaping is still being assessed.\", 1],\n",
        "    [\"Smoking rates have declined with the rise of vaping.\", 2],\n",
        "    [\"Vaping is not the perfect solution, but it helps some people quit smoking.\", 2],\n",
        "    [\"Vaping is better than smoking\", 2],\n",
        "    [\"Smoking has been linked to multiple forms of cancer.\", 0],\n",
        "    [\"Traditional cigarettes contain harmful toxins that damage your lungs.\",0],\n",
        "    [\"The habit of smoking can lead to severe respiratory issues.\",0],\n",
        "    [\"Cigarette smoke contributes to air pollution and harms the environment.\",0],\n",
        "    [\"Smoking significantly increases the risk of heart disease and stroke.\",0],\n",
        "    [\"Switching to vaping has helped many smokers reduce their tobacco intake.\",2],\n",
        "[\"E-cigarettes are often seen as a less harmful alternative to smoking.\",2],\n",
        "[\"Vaping can be an effective tool for those looking to quit smoking.\",2],\n",
        "[\"Some studies suggest that vaping is less harmful to bystanders compared to smoking.\",2],\n",
        "[\"Using e-cigarettes has allowed me to quit smoking entirely.\",2],\n",
        "[\"There are still many debates on whether vaping is safer than smoking.\",3],\n",
        "[\"It's hard to say if vaping is truly better than traditional smoking.\",3],\n",
        "[\"Some people believe vaping is just a trend, while others think it has long-term risks.\",3],\n",
        "[\"The safety of vaping is still being studied, and conclusions vary.\",3],\n",
        "[\"Opinions are divided on whether e-cigarettes are a good alternative to smoking.\",3],\n",
        "[\"Vaping can lead to nicotine addiction just like traditional smoking.\",1],\n",
        "[\"The chemicals in e-cigarettes may cause lung damage over time.\",1],\n",
        "[\"E-cigarettes have been found to contain toxic substances harmful to health.\",1],\n",
        "[\"Vaping might cause long-term health issues that are still unknown.\",1],\n",
        "[\"Some users report throat irritation and coughing after vaping.\",1],\n",
        "]\n",
        "new_entries = [\n",
        "    [\"Traditional smoking has been linked to various life-threatening diseases such as lung cancer and heart disease.\", 0],\n",
        "    [\"Vaping might be less harmful than smoking, but it still contains chemicals that could pose health risks.\", 1],\n",
        "    [\"Switching to vaping helped me cut down on traditional smoking, and I feel healthier now.\", 2],\n",
        "    [\"There’s still a lot of uncertainty around the long-term health effects of vaping.\", 3],\n",
        "    [\"Smoking is known to cause chronic respiratory problems, making it extremely dangerous.\", 0],\n",
        "    [\"Vaping could still expose users to harmful substances, even though it’s often advertised as safer.\", 1],\n",
        "    [\"Using vaping as a smoking cessation tool has worked for many people, including myself.\", 2],\n",
        "    [\"I’m not sure if vaping is truly safer than smoking; more research is needed.\", 3],\n",
        "    [\"Second-hand smoke from traditional cigarettes is a serious concern for public health.\", 0],\n",
        "    [\"Vaping may contain fewer toxins than smoking, but it’s not without its dangers.\", 1],\n",
        "    [\"I switched to vaping to quit smoking and have had fewer cravings since then.\", 2],\n",
        "    [\"The scientific community is still divided on whether vaping is a safe alternative to smoking.\", 3],\n",
        "    [\"Traditional smoking has been a major contributor to lung diseases for decades.\", 0],\n",
        "    [\"Although vaping is marketed as safer, it can still lead to nicotine addiction.\", 1],\n",
        "    [\"Vaping helped me quit smoking completely, and I believe it’s a better alternative.\", 2],\n",
        "    [\"The debate on vaping versus smoking continues, and I’m not sure which is worse.\", 3],\n",
        "    [\"Smoking negatively impacts both the smoker’s health and those exposed to second-hand smoke.\", 0],\n",
        "    [\"Vaping liquids contain chemicals that might have adverse health effects.\", 1],\n",
        "    [\"Many people have successfully used vaping to quit traditional smoking.\", 2],\n",
        "    [\"It’s hard to tell if vaping is a real solution or just another health risk.\", 3]\n",
        "]\n",
        "data.extend(new_entries)\n",
        "df = pd.DataFrame(data, columns=['text', 'label'])\n",
        "generated_texts = [item[0] for item in data]\n",
        "generated_labels = [item[1] for item in data]\n",
        "\n",
        "df.to_csv('train_data_qualitative_2024.csv', index=False)"
      ],
      "metadata": {
        "id": "cv2i3aiPESGC"
      },
      "execution_count": null,
      "outputs": []
    },
    {
      "cell_type": "markdown",
      "source": [
        "The word_tokenize method splits the input text string into a list of words, including punctuation marks. It splits according to Spaces, punctuation, etc., while keeping punctuation as separate units. For example, \"Traditional smoking is very harmful to health.\" will be broken down into ['Traditional', 'smoking', 'is', 'very', 'harmful', 'to', 'health', '.'].\n",
        "\n",
        "Stop words are common words that are usually ignored in text processing, such as \"is\", \"and\", \"the\", etc."
      ],
      "metadata": {
        "id": "b-ZdY_0hF-iT"
      }
    },
    {
      "cell_type": "code",
      "source": [
        "cleaned_texts = [clean_text(text) for text in generated_texts]\n",
        "def tokenize_and_remove_stopwords(text):\n",
        "    words = word_tokenize(text)\n",
        "    stop_words = set(stopwords.words('english'))\n",
        "    filtered_words = [word for word in words if word.lower() not in stop_words]\n",
        "    return filtered_words\n",
        "tokenized_texts = [tokenize_and_remove_stopwords(text) for text in cleaned_texts]"
      ],
      "metadata": {
        "id": "HnerCLwAE3yR"
      },
      "execution_count": null,
      "outputs": []
    },
    {
      "cell_type": "markdown",
      "source": [
        "Because in word_tokenize, not like will be splited into ['not','like']. We need to combine them into one single word ['not_like'] to represent the negate meanning."
      ],
      "metadata": {
        "id": "__z83mqZIqkD"
      }
    },
    {
      "cell_type": "code",
      "source": [
        "# handle the negate words\n",
        "def handle_negations(text_tokens):\n",
        "    result = []\n",
        "    negate = False\n",
        "    for token in text_tokens:\n",
        "        if token.lower() in [\"not\", \"no\", \"never\"]:\n",
        "            negate = True\n",
        "        elif negate:\n",
        "            result.append(f\"not_{token}\")\n",
        "            negate = False\n",
        "        else:\n",
        "            result.append(token)\n",
        "    return result\n",
        "\n",
        "negation_handled_texts = [handle_negations(text) for text in tokenized_texts]\n",
        "\n",
        "# recombine the filter texts\n",
        "final_texts = [' '.join(text) for text in negation_handled_texts]"
      ],
      "metadata": {
        "id": "UR5SsfUEIhl0"
      },
      "execution_count": null,
      "outputs": []
    },
    {
      "cell_type": "markdown",
      "source": [
        "GloVe (Global Vectors for Word Representation) is a pre-trained word embedding model that maps words to high-dimensional vector Spaces. The vector representation of each word captures its semantic and contextual information. This vector representation can be used to compare similarities between words.\n",
        "\n",
        "The GloVe vector for each word captures its semantic information. By calculating the average of all the word vectors in the text, we can get a vector that represents the semantics of the entire text"
      ],
      "metadata": {
        "id": "KEU0J3liJfHn"
      }
    },
    {
      "cell_type": "code",
      "source": [
        "# Load GloVe word embedding model\n",
        "glove_file = '/content/drive/MyDrive/glove.6B.100d.txt'\n",
        "glove_vectors = KeyedVectors.load_word2vec_format(glove_file, binary=False, no_header=True)\n",
        "\n",
        "# Calculate the word embedding average for each text\n",
        "def get_average_word2vec(tokens_list, vector, k=100):\n",
        "    if len(tokens_list) < 1:\n",
        "        return np.zeros(k)\n",
        "    vectorized = [vector[word] if word in vector else np.zeros(k) for word in tokens_list]\n",
        "    mean = np.mean(vectorized, axis=0)\n",
        "    return mean\n",
        "\n",
        "X = np.array([get_average_word2vec(tokens, glove_vectors) for tokens in final_texts])"
      ],
      "metadata": {
        "id": "40x26RbKJfql"
      },
      "execution_count": null,
      "outputs": []
    },
    {
      "cell_type": "markdown",
      "source": [
        "Logistic regression: it estimates the probability of an event occurring, and it is used in the classification."
      ],
      "metadata": {
        "id": "vrIUfkf-RYlY"
      }
    },
    {
      "cell_type": "code",
      "source": [
        "# split the data set\n",
        "X_train, X_test, y_train, y_test = train_test_split(X, generated_labels, test_size=0.2, random_state=42)\n",
        "\n",
        "model = LogisticRegression(max_iter=200)\n",
        "model.fit(X_train, y_train)\n",
        "y_pred = model.predict(X_test)\n",
        "\n",
        "print(\"Logistic Regression Accuracy:\", accuracy_score(y_test, y_pred))"
      ],
      "metadata": {
        "id": "Z64GHd9uK7rK",
        "colab": {
          "base_uri": "https://localhost:8080/"
        },
        "outputId": "dd15359f-a6a1-4644-ff8c-e01ef3702839"
      },
      "execution_count": null,
      "outputs": [
        {
          "output_type": "stream",
          "name": "stdout",
          "text": [
            "Logistic Regression Accuracy: 0.6428571428571429\n"
          ]
        }
      ]
    },
    {
      "cell_type": "markdown",
      "source": [
        "K means: it is the process of teaching a computer to use unlabeled, unclassified data and enabling the algorithm to operate on that data without supervision."
      ],
      "metadata": {
        "id": "uNZCw-qiKbl7"
      }
    },
    {
      "cell_type": "code",
      "source": [
        "from sklearn.cluster import KMeans\n",
        "from scipy.stats import mode\n",
        "# Kmeans\n",
        "kmeans = KMeans(n_clusters=4, random_state=42, n_init=10)\n",
        "kmeans.fit(X_train)\n",
        "\n",
        "kmeans_y_pred = kmeans.predict(X_test)\n",
        "y_test = np.array(y_test)\n",
        "# align the label\n",
        "labels_aligned = np.zeros_like(kmeans_y_pred)\n",
        "for i in range(4):\n",
        "    mask = (kmeans_y_pred == i)\n",
        "    labels_aligned[mask] = mode(y_test[mask])[0]\n",
        "\n",
        "print(\"KMeans Accuracy:\", accuracy_score(y_test, labels_aligned))\n"
      ],
      "metadata": {
        "colab": {
          "base_uri": "https://localhost:8080/"
        },
        "id": "rH9BLqHGFxSP",
        "outputId": "e06ec060-a446-48bc-b934-7a4046f521cc"
      },
      "execution_count": null,
      "outputs": [
        {
          "output_type": "stream",
          "name": "stdout",
          "text": [
            "KMeans Accuracy: 0.42857142857142855\n"
          ]
        }
      ]
    },
    {
      "cell_type": "markdown",
      "source": [
        "Use the new texts to test our logistic regression model because it performe better than Kmeans and store it into excel."
      ],
      "metadata": {
        "id": "-M3dVMyE9VW2"
      }
    },
    {
      "cell_type": "code",
      "source": [
        "from operator import ne\n",
        "new_texts = [\n",
        "    \"Smoking is terrible for your health.\",\n",
        "    \"Vaping do not make me better\",\n",
        "    \"Traditional smoking is known to cause various health issues.\",\n",
        "    \"There is a lot of debate about vaping being safer than smoking.\",\n",
        "    \"I already addicted in vaping\",\n",
        "    \"Vaping has helped me quit smoking.\"\n",
        "]\n",
        "new_cleaned_texts = [clean_text(text) for text in new_texts]\n",
        "new_tokenized_texts = [tokenize_and_remove_stopwords(text) for text in new_cleaned_texts]\n",
        "new_negation_handled_texts = [handle_negations(' '.join(text)) for text in new_tokenized_texts]\n",
        "new_final_texts = [' '.join(text) for text in new_negation_handled_texts]\n",
        "\n",
        "new_X = np.array([get_average_word2vec(word_tokenize(text), glove_vectors) for text in new_final_texts])\n",
        "\n",
        "new_y_pred = model.predict(new_X)\n",
        "\n",
        "print(\"Predictions:\", new_y_pred)"
      ],
      "metadata": {
        "colab": {
          "base_uri": "https://localhost:8080/"
        },
        "id": "vzXwUswzW7gh",
        "outputId": "929ab202-63a7-449d-e689-62edc47e1bb0"
      },
      "execution_count": null,
      "outputs": [
        {
          "output_type": "stream",
          "name": "stdout",
          "text": [
            "Predictions: [0 1 0 0 1 2]\n"
          ]
        }
      ]
    },
    {
      "cell_type": "code",
      "source": [
        "df = pd.DataFrame({'Text': new_texts, 'Predicted Label': new_y_pred})\n",
        "df.to_csv('predictions.csv', index=False)"
      ],
      "metadata": {
        "id": "c8mH5Ort9kKQ"
      },
      "execution_count": null,
      "outputs": []
    },
    {
      "cell_type": "markdown",
      "source": [
        "Create the web for user to input the response to interact my model. The web link is https://03b022a2d9b41bcbee.gradio.live, and it expires in 72 hour after each time execution.\n",
        "\n"
      ],
      "metadata": {
        "id": "nsIm97weaFcm"
      }
    },
    {
      "cell_type": "code",
      "source": [
        "!pip install gradio"
      ],
      "metadata": {
        "colab": {
          "base_uri": "https://localhost:8080/"
        },
        "id": "6RKsQya7aL_w",
        "outputId": "f2e46029-bfd2-4201-ea59-1298caf45353"
      },
      "execution_count": null,
      "outputs": [
        {
          "output_type": "stream",
          "name": "stdout",
          "text": [
            "Requirement already satisfied: gradio in /usr/local/lib/python3.10/dist-packages (4.41.0)\n",
            "Requirement already satisfied: aiofiles<24.0,>=22.0 in /usr/local/lib/python3.10/dist-packages (from gradio) (23.2.1)\n",
            "Requirement already satisfied: anyio<5.0,>=3.0 in /usr/local/lib/python3.10/dist-packages (from gradio) (3.7.1)\n",
            "Requirement already satisfied: fastapi in /usr/local/lib/python3.10/dist-packages (from gradio) (0.112.0)\n",
            "Requirement already satisfied: ffmpy in /usr/local/lib/python3.10/dist-packages (from gradio) (0.4.0)\n",
            "Requirement already satisfied: gradio-client==1.3.0 in /usr/local/lib/python3.10/dist-packages (from gradio) (1.3.0)\n",
            "Requirement already satisfied: httpx>=0.24.1 in /usr/local/lib/python3.10/dist-packages (from gradio) (0.27.0)\n",
            "Requirement already satisfied: huggingface-hub>=0.19.3 in /usr/local/lib/python3.10/dist-packages (from gradio) (0.23.5)\n",
            "Requirement already satisfied: importlib-resources<7.0,>=1.3 in /usr/local/lib/python3.10/dist-packages (from gradio) (6.4.0)\n",
            "Requirement already satisfied: jinja2<4.0 in /usr/local/lib/python3.10/dist-packages (from gradio) (3.1.4)\n",
            "Requirement already satisfied: markupsafe~=2.0 in /usr/local/lib/python3.10/dist-packages (from gradio) (2.1.5)\n",
            "Requirement already satisfied: matplotlib~=3.0 in /usr/local/lib/python3.10/dist-packages (from gradio) (3.7.1)\n",
            "Requirement already satisfied: numpy<3.0,>=1.0 in /usr/local/lib/python3.10/dist-packages (from gradio) (1.26.4)\n",
            "Requirement already satisfied: orjson~=3.0 in /usr/local/lib/python3.10/dist-packages (from gradio) (3.10.7)\n",
            "Requirement already satisfied: packaging in /usr/local/lib/python3.10/dist-packages (from gradio) (24.1)\n",
            "Requirement already satisfied: pandas<3.0,>=1.0 in /usr/local/lib/python3.10/dist-packages (from gradio) (2.1.4)\n",
            "Requirement already satisfied: pillow<11.0,>=8.0 in /usr/local/lib/python3.10/dist-packages (from gradio) (9.4.0)\n",
            "Requirement already satisfied: pydantic>=2.0 in /usr/local/lib/python3.10/dist-packages (from gradio) (2.8.2)\n",
            "Requirement already satisfied: pydub in /usr/local/lib/python3.10/dist-packages (from gradio) (0.25.1)\n",
            "Requirement already satisfied: python-multipart>=0.0.9 in /usr/local/lib/python3.10/dist-packages (from gradio) (0.0.9)\n",
            "Requirement already satisfied: pyyaml<7.0,>=5.0 in /usr/local/lib/python3.10/dist-packages (from gradio) (6.0.2)\n",
            "Requirement already satisfied: ruff>=0.2.2 in /usr/local/lib/python3.10/dist-packages (from gradio) (0.6.0)\n",
            "Requirement already satisfied: semantic-version~=2.0 in /usr/local/lib/python3.10/dist-packages (from gradio) (2.10.0)\n",
            "Requirement already satisfied: tomlkit==0.12.0 in /usr/local/lib/python3.10/dist-packages (from gradio) (0.12.0)\n",
            "Requirement already satisfied: typer<1.0,>=0.12 in /usr/local/lib/python3.10/dist-packages (from gradio) (0.12.3)\n",
            "Requirement already satisfied: typing-extensions~=4.0 in /usr/local/lib/python3.10/dist-packages (from gradio) (4.12.2)\n",
            "Requirement already satisfied: urllib3~=2.0 in /usr/local/lib/python3.10/dist-packages (from gradio) (2.0.7)\n",
            "Requirement already satisfied: uvicorn>=0.14.0 in /usr/local/lib/python3.10/dist-packages (from gradio) (0.30.6)\n",
            "Requirement already satisfied: fsspec in /usr/local/lib/python3.10/dist-packages (from gradio-client==1.3.0->gradio) (2024.6.1)\n",
            "Requirement already satisfied: websockets<13.0,>=10.0 in /usr/local/lib/python3.10/dist-packages (from gradio-client==1.3.0->gradio) (12.0)\n",
            "Requirement already satisfied: idna>=2.8 in /usr/local/lib/python3.10/dist-packages (from anyio<5.0,>=3.0->gradio) (3.7)\n",
            "Requirement already satisfied: sniffio>=1.1 in /usr/local/lib/python3.10/dist-packages (from anyio<5.0,>=3.0->gradio) (1.3.1)\n",
            "Requirement already satisfied: exceptiongroup in /usr/local/lib/python3.10/dist-packages (from anyio<5.0,>=3.0->gradio) (1.2.2)\n",
            "Requirement already satisfied: certifi in /usr/local/lib/python3.10/dist-packages (from httpx>=0.24.1->gradio) (2024.7.4)\n",
            "Requirement already satisfied: httpcore==1.* in /usr/local/lib/python3.10/dist-packages (from httpx>=0.24.1->gradio) (1.0.5)\n",
            "Requirement already satisfied: h11<0.15,>=0.13 in /usr/local/lib/python3.10/dist-packages (from httpcore==1.*->httpx>=0.24.1->gradio) (0.14.0)\n",
            "Requirement already satisfied: filelock in /usr/local/lib/python3.10/dist-packages (from huggingface-hub>=0.19.3->gradio) (3.15.4)\n",
            "Requirement already satisfied: requests in /usr/local/lib/python3.10/dist-packages (from huggingface-hub>=0.19.3->gradio) (2.32.3)\n",
            "Requirement already satisfied: tqdm>=4.42.1 in /usr/local/lib/python3.10/dist-packages (from huggingface-hub>=0.19.3->gradio) (4.66.5)\n",
            "Requirement already satisfied: contourpy>=1.0.1 in /usr/local/lib/python3.10/dist-packages (from matplotlib~=3.0->gradio) (1.2.1)\n",
            "Requirement already satisfied: cycler>=0.10 in /usr/local/lib/python3.10/dist-packages (from matplotlib~=3.0->gradio) (0.12.1)\n",
            "Requirement already satisfied: fonttools>=4.22.0 in /usr/local/lib/python3.10/dist-packages (from matplotlib~=3.0->gradio) (4.53.1)\n",
            "Requirement already satisfied: kiwisolver>=1.0.1 in /usr/local/lib/python3.10/dist-packages (from matplotlib~=3.0->gradio) (1.4.5)\n",
            "Requirement already satisfied: pyparsing>=2.3.1 in /usr/local/lib/python3.10/dist-packages (from matplotlib~=3.0->gradio) (3.1.2)\n",
            "Requirement already satisfied: python-dateutil>=2.7 in /usr/local/lib/python3.10/dist-packages (from matplotlib~=3.0->gradio) (2.8.2)\n",
            "Requirement already satisfied: pytz>=2020.1 in /usr/local/lib/python3.10/dist-packages (from pandas<3.0,>=1.0->gradio) (2024.1)\n",
            "Requirement already satisfied: tzdata>=2022.1 in /usr/local/lib/python3.10/dist-packages (from pandas<3.0,>=1.0->gradio) (2024.1)\n",
            "Requirement already satisfied: annotated-types>=0.4.0 in /usr/local/lib/python3.10/dist-packages (from pydantic>=2.0->gradio) (0.7.0)\n",
            "Requirement already satisfied: pydantic-core==2.20.1 in /usr/local/lib/python3.10/dist-packages (from pydantic>=2.0->gradio) (2.20.1)\n",
            "Requirement already satisfied: click>=8.0.0 in /usr/local/lib/python3.10/dist-packages (from typer<1.0,>=0.12->gradio) (8.1.7)\n",
            "Requirement already satisfied: shellingham>=1.3.0 in /usr/local/lib/python3.10/dist-packages (from typer<1.0,>=0.12->gradio) (1.5.4)\n",
            "Requirement already satisfied: rich>=10.11.0 in /usr/local/lib/python3.10/dist-packages (from typer<1.0,>=0.12->gradio) (13.7.1)\n",
            "Requirement already satisfied: starlette<0.38.0,>=0.37.2 in /usr/local/lib/python3.10/dist-packages (from fastapi->gradio) (0.37.2)\n",
            "Requirement already satisfied: six>=1.5 in /usr/local/lib/python3.10/dist-packages (from python-dateutil>=2.7->matplotlib~=3.0->gradio) (1.16.0)\n",
            "Requirement already satisfied: markdown-it-py>=2.2.0 in /usr/local/lib/python3.10/dist-packages (from rich>=10.11.0->typer<1.0,>=0.12->gradio) (3.0.0)\n",
            "Requirement already satisfied: pygments<3.0.0,>=2.13.0 in /usr/local/lib/python3.10/dist-packages (from rich>=10.11.0->typer<1.0,>=0.12->gradio) (2.16.1)\n",
            "Requirement already satisfied: charset-normalizer<4,>=2 in /usr/local/lib/python3.10/dist-packages (from requests->huggingface-hub>=0.19.3->gradio) (3.3.2)\n",
            "Requirement already satisfied: mdurl~=0.1 in /usr/local/lib/python3.10/dist-packages (from markdown-it-py>=2.2.0->rich>=10.11.0->typer<1.0,>=0.12->gradio) (0.1.2)\n"
          ]
        }
      ]
    },
    {
      "cell_type": "code",
      "source": [
        "!pip install gradio huggingface_hub\n"
      ],
      "metadata": {
        "colab": {
          "base_uri": "https://localhost:8080/"
        },
        "id": "fbvN9BubveUZ",
        "outputId": "1a1c7318-f143-4eae-83ec-990d548666ea"
      },
      "execution_count": null,
      "outputs": [
        {
          "output_type": "stream",
          "name": "stdout",
          "text": [
            "Requirement already satisfied: gradio in /usr/local/lib/python3.10/dist-packages (4.41.0)\n",
            "Requirement already satisfied: huggingface_hub in /usr/local/lib/python3.10/dist-packages (0.23.5)\n",
            "Requirement already satisfied: aiofiles<24.0,>=22.0 in /usr/local/lib/python3.10/dist-packages (from gradio) (23.2.1)\n",
            "Requirement already satisfied: anyio<5.0,>=3.0 in /usr/local/lib/python3.10/dist-packages (from gradio) (3.7.1)\n",
            "Requirement already satisfied: fastapi in /usr/local/lib/python3.10/dist-packages (from gradio) (0.112.0)\n",
            "Requirement already satisfied: ffmpy in /usr/local/lib/python3.10/dist-packages (from gradio) (0.4.0)\n",
            "Requirement already satisfied: gradio-client==1.3.0 in /usr/local/lib/python3.10/dist-packages (from gradio) (1.3.0)\n",
            "Requirement already satisfied: httpx>=0.24.1 in /usr/local/lib/python3.10/dist-packages (from gradio) (0.27.0)\n",
            "Requirement already satisfied: importlib-resources<7.0,>=1.3 in /usr/local/lib/python3.10/dist-packages (from gradio) (6.4.0)\n",
            "Requirement already satisfied: jinja2<4.0 in /usr/local/lib/python3.10/dist-packages (from gradio) (3.1.4)\n",
            "Requirement already satisfied: markupsafe~=2.0 in /usr/local/lib/python3.10/dist-packages (from gradio) (2.1.5)\n",
            "Requirement already satisfied: matplotlib~=3.0 in /usr/local/lib/python3.10/dist-packages (from gradio) (3.7.1)\n",
            "Requirement already satisfied: numpy<3.0,>=1.0 in /usr/local/lib/python3.10/dist-packages (from gradio) (1.26.4)\n",
            "Requirement already satisfied: orjson~=3.0 in /usr/local/lib/python3.10/dist-packages (from gradio) (3.10.7)\n",
            "Requirement already satisfied: packaging in /usr/local/lib/python3.10/dist-packages (from gradio) (24.1)\n",
            "Requirement already satisfied: pandas<3.0,>=1.0 in /usr/local/lib/python3.10/dist-packages (from gradio) (2.1.4)\n",
            "Requirement already satisfied: pillow<11.0,>=8.0 in /usr/local/lib/python3.10/dist-packages (from gradio) (9.4.0)\n",
            "Requirement already satisfied: pydantic>=2.0 in /usr/local/lib/python3.10/dist-packages (from gradio) (2.8.2)\n",
            "Requirement already satisfied: pydub in /usr/local/lib/python3.10/dist-packages (from gradio) (0.25.1)\n",
            "Requirement already satisfied: python-multipart>=0.0.9 in /usr/local/lib/python3.10/dist-packages (from gradio) (0.0.9)\n",
            "Requirement already satisfied: pyyaml<7.0,>=5.0 in /usr/local/lib/python3.10/dist-packages (from gradio) (6.0.2)\n",
            "Requirement already satisfied: ruff>=0.2.2 in /usr/local/lib/python3.10/dist-packages (from gradio) (0.6.0)\n",
            "Requirement already satisfied: semantic-version~=2.0 in /usr/local/lib/python3.10/dist-packages (from gradio) (2.10.0)\n",
            "Requirement already satisfied: tomlkit==0.12.0 in /usr/local/lib/python3.10/dist-packages (from gradio) (0.12.0)\n",
            "Requirement already satisfied: typer<1.0,>=0.12 in /usr/local/lib/python3.10/dist-packages (from gradio) (0.12.3)\n",
            "Requirement already satisfied: typing-extensions~=4.0 in /usr/local/lib/python3.10/dist-packages (from gradio) (4.12.2)\n",
            "Requirement already satisfied: urllib3~=2.0 in /usr/local/lib/python3.10/dist-packages (from gradio) (2.0.7)\n",
            "Requirement already satisfied: uvicorn>=0.14.0 in /usr/local/lib/python3.10/dist-packages (from gradio) (0.30.6)\n",
            "Requirement already satisfied: fsspec in /usr/local/lib/python3.10/dist-packages (from gradio-client==1.3.0->gradio) (2024.6.1)\n",
            "Requirement already satisfied: websockets<13.0,>=10.0 in /usr/local/lib/python3.10/dist-packages (from gradio-client==1.3.0->gradio) (12.0)\n",
            "Requirement already satisfied: filelock in /usr/local/lib/python3.10/dist-packages (from huggingface_hub) (3.15.4)\n",
            "Requirement already satisfied: requests in /usr/local/lib/python3.10/dist-packages (from huggingface_hub) (2.32.3)\n",
            "Requirement already satisfied: tqdm>=4.42.1 in /usr/local/lib/python3.10/dist-packages (from huggingface_hub) (4.66.5)\n",
            "Requirement already satisfied: idna>=2.8 in /usr/local/lib/python3.10/dist-packages (from anyio<5.0,>=3.0->gradio) (3.7)\n",
            "Requirement already satisfied: sniffio>=1.1 in /usr/local/lib/python3.10/dist-packages (from anyio<5.0,>=3.0->gradio) (1.3.1)\n",
            "Requirement already satisfied: exceptiongroup in /usr/local/lib/python3.10/dist-packages (from anyio<5.0,>=3.0->gradio) (1.2.2)\n",
            "Requirement already satisfied: certifi in /usr/local/lib/python3.10/dist-packages (from httpx>=0.24.1->gradio) (2024.7.4)\n",
            "Requirement already satisfied: httpcore==1.* in /usr/local/lib/python3.10/dist-packages (from httpx>=0.24.1->gradio) (1.0.5)\n",
            "Requirement already satisfied: h11<0.15,>=0.13 in /usr/local/lib/python3.10/dist-packages (from httpcore==1.*->httpx>=0.24.1->gradio) (0.14.0)\n",
            "Requirement already satisfied: contourpy>=1.0.1 in /usr/local/lib/python3.10/dist-packages (from matplotlib~=3.0->gradio) (1.2.1)\n",
            "Requirement already satisfied: cycler>=0.10 in /usr/local/lib/python3.10/dist-packages (from matplotlib~=3.0->gradio) (0.12.1)\n",
            "Requirement already satisfied: fonttools>=4.22.0 in /usr/local/lib/python3.10/dist-packages (from matplotlib~=3.0->gradio) (4.53.1)\n",
            "Requirement already satisfied: kiwisolver>=1.0.1 in /usr/local/lib/python3.10/dist-packages (from matplotlib~=3.0->gradio) (1.4.5)\n",
            "Requirement already satisfied: pyparsing>=2.3.1 in /usr/local/lib/python3.10/dist-packages (from matplotlib~=3.0->gradio) (3.1.2)\n",
            "Requirement already satisfied: python-dateutil>=2.7 in /usr/local/lib/python3.10/dist-packages (from matplotlib~=3.0->gradio) (2.8.2)\n",
            "Requirement already satisfied: pytz>=2020.1 in /usr/local/lib/python3.10/dist-packages (from pandas<3.0,>=1.0->gradio) (2024.1)\n",
            "Requirement already satisfied: tzdata>=2022.1 in /usr/local/lib/python3.10/dist-packages (from pandas<3.0,>=1.0->gradio) (2024.1)\n",
            "Requirement already satisfied: annotated-types>=0.4.0 in /usr/local/lib/python3.10/dist-packages (from pydantic>=2.0->gradio) (0.7.0)\n",
            "Requirement already satisfied: pydantic-core==2.20.1 in /usr/local/lib/python3.10/dist-packages (from pydantic>=2.0->gradio) (2.20.1)\n",
            "Requirement already satisfied: click>=8.0.0 in /usr/local/lib/python3.10/dist-packages (from typer<1.0,>=0.12->gradio) (8.1.7)\n",
            "Requirement already satisfied: shellingham>=1.3.0 in /usr/local/lib/python3.10/dist-packages (from typer<1.0,>=0.12->gradio) (1.5.4)\n",
            "Requirement already satisfied: rich>=10.11.0 in /usr/local/lib/python3.10/dist-packages (from typer<1.0,>=0.12->gradio) (13.7.1)\n",
            "Requirement already satisfied: starlette<0.38.0,>=0.37.2 in /usr/local/lib/python3.10/dist-packages (from fastapi->gradio) (0.37.2)\n",
            "Requirement already satisfied: charset-normalizer<4,>=2 in /usr/local/lib/python3.10/dist-packages (from requests->huggingface_hub) (3.3.2)\n",
            "Requirement already satisfied: six>=1.5 in /usr/local/lib/python3.10/dist-packages (from python-dateutil>=2.7->matplotlib~=3.0->gradio) (1.16.0)\n",
            "Requirement already satisfied: markdown-it-py>=2.2.0 in /usr/local/lib/python3.10/dist-packages (from rich>=10.11.0->typer<1.0,>=0.12->gradio) (3.0.0)\n",
            "Requirement already satisfied: pygments<3.0.0,>=2.13.0 in /usr/local/lib/python3.10/dist-packages (from rich>=10.11.0->typer<1.0,>=0.12->gradio) (2.16.1)\n",
            "Requirement already satisfied: mdurl~=0.1 in /usr/local/lib/python3.10/dist-packages (from markdown-it-py>=2.2.0->rich>=10.11.0->typer<1.0,>=0.12->gradio) (0.1.2)\n"
          ]
        }
      ]
    },
    {
      "cell_type": "code",
      "source": [
        "import gradio as gr\n",
        "def process_input(user_input):\n",
        "    cleaned_text = clean_text(user_input)\n",
        "    tokenized_text = tokenize_and_remove_stopwords(cleaned_text)\n",
        "    negation_handled_text = handle_negations(' '.join(tokenized_text))\n",
        "    final_text = ' '.join(negation_handled_text)\n",
        "\n",
        "    X = np.array([get_average_word2vec(word_tokenize(final_text), glove_vectors)])\n",
        "    y_pred = model.predict(X)\n",
        "    s=' which means '\n",
        "    if y_pred == 0:\n",
        "      s += 'Negative effects of traditional smoking versus vaping'\n",
        "    elif y_pred == 1:\n",
        "      s += 'Negative effects of e-cigarettes'\n",
        "    elif y_pred == 2:\n",
        "      s += 'Positive effects of e-cigarettes'\n",
        "    elif y_pred == 3:\n",
        "      s += 'Non-committal (or don\\'t know)'\n",
        "    return f\"Predictions: {y_pred}\", s\n",
        "\n",
        "title = \"What is your opinion on the health impacts of traditional smoking versus vaping?\"\n",
        "description = \"Enter your opinion below and the model will predict the category of the statement.\"\n",
        "\n",
        "iface = gr.Interface(\n",
        "    fn=process_input,\n",
        "    inputs=\"text\",\n",
        "    outputs=\"text\",\n",
        "    title=title,\n",
        "    description=description,\n",
        "    theme=\"default\",\n",
        "    examples=[\"Smoking is terrible for your health.\", \"Vaping do not make me better\", \"Vaping has helped me quit smoking.\"]\n",
        ")\n",
        "iface.launch(share=True)"
      ],
      "metadata": {
        "colab": {
          "base_uri": "https://localhost:8080/",
          "height": 648
        },
        "id": "Qx3GRfBzawpu",
        "outputId": "cab6df44-92cd-4064-8b70-033310f829db"
      },
      "execution_count": null,
      "outputs": [
        {
          "output_type": "stream",
          "name": "stdout",
          "text": [
            "Setting queue=True in a Colab notebook requires sharing enabled. Setting `share=True` (you can turn this off by setting `share=False` in `launch()` explicitly).\n",
            "\n",
            "Colab notebook detected. To show errors in colab notebook, set debug=True in launch()\n",
            "Running on public URL: https://a4cc4bdb4e818362ad.gradio.live\n",
            "\n",
            "This share link expires in 72 hours. For free permanent hosting and GPU upgrades, run `gradio deploy` from Terminal to deploy to Spaces (https://huggingface.co/spaces)\n"
          ]
        },
        {
          "output_type": "display_data",
          "data": {
            "text/plain": [
              "<IPython.core.display.HTML object>"
            ],
            "text/html": [
              "<div><iframe src=\"https://a4cc4bdb4e818362ad.gradio.live\" width=\"100%\" height=\"500\" allow=\"autoplay; camera; microphone; clipboard-read; clipboard-write;\" frameborder=\"0\" allowfullscreen></iframe></div>"
            ]
          },
          "metadata": {}
        },
        {
          "output_type": "execute_result",
          "data": {
            "text/plain": []
          },
          "metadata": {},
          "execution_count": 34
        }
      ]
    }
  ]
}