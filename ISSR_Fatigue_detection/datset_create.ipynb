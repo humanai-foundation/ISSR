{
 "cells": [
  {
   "cell_type": "code",
   "execution_count": 44,
   "metadata": {},
   "outputs": [
    {
     "name": "stdout",
     "output_type": "stream",
     "text": [
      "Folder already exists.\n"
     ]
    }
   ],
   "source": [
    "import os\n",
    "import cv2\n",
    "save_folder=r'/media/cgi/440A20600A20516A/drowsy_dataset/drowsy_yolo_real'\n",
    "folder_list=['0_image','10_image']\n",
    "for folder in folder_list:\n",
    "    folder_path=os.path.join(save_folder,folder)\n",
    "    if not os.path.isdir(folder_path):\n",
    "        os.makedirs(folder_path)\n",
    "    else:\n",
    "        print(\"Folder already exists.\")\n",
    "\n"
   ]
  },
  {
   "cell_type": "code",
   "execution_count": 20,
   "metadata": {},
   "outputs": [
    {
     "data": {
      "text/plain": [
       "'drowsy_yolo_real'"
      ]
     },
     "execution_count": 20,
     "metadata": {},
     "output_type": "execute_result"
    }
   ],
   "source": [
    "save_folder.split('/')[-1]"
   ]
  },
  {
   "cell_type": "code",
   "execution_count": 45,
   "metadata": {},
   "outputs": [
    {
     "name": "stdout",
     "output_type": "stream",
     "text": [
      "Execution Complete!\n"
     ]
    }
   ],
   "source": [
    "import random\n",
    "dir_list=['0','10']\n",
    "save_folder=r'/media/cgi/440A20600A20516A/drowsy_dataset/drowsy_yolo_real'\n",
    "pwd=os.getcwd()\n",
    "for dir in dir_list:\n",
    "    folder_path=os.path.join(pwd,dir)\n",
    "    video_list=os.listdir(folder_path)\n",
    "    for video in video_list:\n",
    "        video_path=os.path.join(folder_path,video)\n",
    "        cap=cv2.VideoCapture(video_path)\n",
    "        num_frames = cap.get(cv2.CAP_PROP_FRAME_COUNT)\n",
    "        random_list=[]\n",
    "        frame_count=0\n",
    "        while frame_count<300:\n",
    "            random_frame = random.randint(1,num_frames)\n",
    "            while random_frame in random_list:\n",
    "                random_frame=random.randint(1,num_frames)\n",
    "                \n",
    "            cap.set(cv2.CAP_PROP_POS_FRAMES,random_frame)\n",
    "            ret,frame = cap.read()\n",
    "            current_frame_number = int(cap.get(cv2.CAP_PROP_POS_FRAMES))\n",
    "            # print(current_frame_number)\n",
    "            if not ret:\n",
    "                break\n",
    "            image_name=f'{video}_{current_frame_number}.png'\n",
    "            save_dir_path=os.path.join(save_folder,f'{dir}_image')\n",
    "            save_image_path=os.path.join(save_dir_path,image_name)\n",
    "            # print(save_image_path)\n",
    "            cv2.imwrite(save_image_path,frame)\n",
    "            frame_count+=1\n",
    "            random_list.append(random_frame)\n",
    "\n",
    "        cap.release()\n",
    "\n",
    "\n",
    "        # print(video_path)\n",
    "\n",
    "print(\"Execution Complete!\")\n",
    "        \n",
    "    \n",
    "   \n"
   ]
  },
  {
   "cell_type": "markdown",
   "metadata": {},
   "source": [
    "#### Making a YOLO .txt file for the randomly selected images from the video dataset"
   ]
  },
  {
   "cell_type": "code",
   "execution_count": 48,
   "metadata": {},
   "outputs": [
    {
     "name": "stdout",
     "output_type": "stream",
     "text": [
      "Folder already exists.\n",
      "Folder already exists.\n"
     ]
    }
   ],
   "source": [
    "import os\n",
    "import cv2\n",
    "save_folder=r'/media/cgi/440A20600A20516A/drowsy_dataset/drowsy_label'\n",
    "os.makedirs(save_folder,exist_ok=True)\n",
    "folder_list=['0_image','10_image']\n",
    "subfolder_list=['images','labels']\n",
    "for folder in folder_list:\n",
    "    folder_path=os.path.join(save_folder,folder)\n",
    "    if not os.path.isdir(folder_path):\n",
    "        os.makedirs(folder_path)\n",
    "    else:\n",
    "        print(\"Folder already exists.\")\n",
    "    for subfolder in subfolder_list:\n",
    "        subfolder_path=os.path.join(folder_path,subfolder)\n",
    "        if not os.path.isdir(subfolder_path):\n",
    "            os.makedirs(subfolder_path)\n",
    "        else:\n",
    "            print(\"Sub-Folder already exists.\")\n",
    "\n",
    "    "
   ]
  },
  {
   "cell_type": "code",
   "execution_count": 150,
   "metadata": {},
   "outputs": [],
   "source": [
    "from ultralytics import YOLO\n",
    "import torch\n",
    "model_path=r'/media/cgi/440A20600A20516A/drowsy_dataset/yolov8n-face.pt'\n",
    "model=YOLO(model_path)\n",
    "device='cuda' if torch.cuda.is_available() else 'cpu'\n",
    "model=model.to(device)\n",
    "image_path=r'/media/cgi/440A20600A20516A/drowsy_dataset/hand.jpeg'\n",
    "img=cv2.imread(image_path)\n",
    "# img=cv2.resize(img,(640,480))\n",
    "cv2.imshow('test',img)\n",
    "cv2.waitKey(0)\n",
    "cv2.destroyAllWindows()\n"
   ]
  },
  {
   "cell_type": "code",
   "execution_count": 151,
   "metadata": {},
   "outputs": [
    {
     "name": "stdout",
     "output_type": "stream",
     "text": [
      "\n",
      "0: 640x640 (no detections), 3.3ms\n",
      "Speed: 0.9ms preprocess, 3.3ms inference, 0.2ms postprocess per image at shape (1, 3, 640, 640)\n"
     ]
    }
   ],
   "source": [
    "results=model.predict(img,conf=0.6,device='cuda')"
   ]
  },
  {
   "cell_type": "code",
   "execution_count": 89,
   "metadata": {},
   "outputs": [
    {
     "data": {
      "text/plain": [
       "(148, 192, 3)"
      ]
     },
     "execution_count": 89,
     "metadata": {},
     "output_type": "execute_result"
    }
   ],
   "source": [
    "img.shape"
   ]
  },
  {
   "cell_type": "code",
   "execution_count": 101,
   "metadata": {},
   "outputs": [
    {
     "data": {
      "text/plain": [
       "0.20051486486486486"
      ]
     },
     "execution_count": 101,
     "metadata": {},
     "output_type": "execute_result"
    }
   ],
   "source": [
    "((14.3734+44.9790)/2)/148"
   ]
  },
  {
   "cell_type": "code",
   "execution_count": 96,
   "metadata": {},
   "outputs": [
    {
     "data": {
      "text/plain": [
       "[[0.33845437, 0.200515, 0.11958617, 0.20679449],\n",
       " [0.6986775, 0.3891679, 0.10678264, 0.1880054]]"
      ]
     },
     "execution_count": 96,
     "metadata": {},
     "output_type": "execute_result"
    }
   ],
   "source": [
    "yolo_list"
   ]
  },
  {
   "cell_type": "code",
   "execution_count": 93,
   "metadata": {},
   "outputs": [
    {
     "data": {
      "text/plain": [
       "(0.6986775, 0.3891679, 0.10678264, 0.1880054)"
      ]
     },
     "execution_count": 93,
     "metadata": {},
     "output_type": "execute_result"
    }
   ],
   "source": [
    "xc,yc,w,h"
   ]
  },
  {
   "cell_type": "code",
   "execution_count": 149,
   "metadata": {},
   "outputs": [
    {
     "name": "stdout",
     "output_type": "stream",
     "text": [
      "106 37 152 100\n"
     ]
    }
   ],
   "source": [
    "result=results[0]\n",
    "yolo_list=[]\n",
    "for box in result.boxes:\n",
    "    x0,y0,x1,y1=box.xyxy.cpu().numpy()[0].astype(int)\n",
    "    xc,yc,w,h=box.xywhn.cpu().numpy()[0]\n",
    "    yolo_list.append(f\"test {xc} {yc} {w} {h}\\n\")\n",
    "\n",
    "    print(x0,y0,x1,y1)\n",
    "    img = cv2.rectangle(img,(x0,y0), (x1,y1),(0,255,0),2)\n",
    "    results=model.predict(img,conf=0.6,device='cuda')\n",
    "    \n",
    "    # with open('my_file.txt', 'w') as f:\n",
    "    #     f.writelines(yolo_list)\n",
    "    #     print(\"Successfully wrote to the file!\")\n",
    "\n",
    "    cv2.imshow('test',img)\n",
    "    cv2.waitKey(0)\n",
    "    cv2.destroyAllWindows()\n"
   ]
  },
  {
   "cell_type": "markdown",
   "metadata": {},
   "source": [
    "#### Writing the .txt file into the folder"
   ]
  },
  {
   "cell_type": "markdown",
   "metadata": {},
   "source": [
    "label format = 0 0.5168269230769231 0.4735576923076923 0.12259615384615384 0.03365384615384615\n",
    "                class_number xc yc w h "
   ]
  },
  {
   "cell_type": "code",
   "execution_count": null,
   "metadata": {},
   "outputs": [],
   "source": [
    "from ultralytics import YOLO\n",
    "import torch\n",
    "import shutil\n",
    "\n",
    "model_path=r'/media/cgi/440A20600A20516A/drowsy_dataset/yolov8n-face.pt'\n",
    "model=YOLO(model_path)\n",
    "device='cuda' if torch.cuda.is_available() else 'cpu'\n",
    "model=model.to(device)\n",
    "\n",
    "move_folder_path=r'/media/cgi/440A20600A20516A/drowsy_dataset/drowsy_yolo_real'\n",
    "save_folder_path=r'/media/cgi/440A20600A20516A/drowsy_dataset/drowsy_label'\n",
    "move_folders=os.listdir(move_folder_path)\n",
    "for folder in move_folders:\n",
    "    folder_path=os.path.join(move_folder_path,folder)\n",
    "    save_subfolder=os.path.join(save_folder_path,folder)\n",
    "    save_image_path=os.path.join(save_subfolder,'images')\n",
    "    save_label_path=os.path.join(save_subfolder,'labels')\n",
    "    class_name=int(folder.split(\"_\")[0][0])\n",
    "    file_list=os.listdir(folder_path)\n",
    "    for file in file_list:\n",
    "        move_file_path=os.path.join(folder_path,file)\n",
    "        file_name=file.split('.png')[0]\n",
    "        label_name=f'{file_name}.txt'\n",
    "        image_destination_path=os.path.join(save_image_path,file)\n",
    "        label_destination_path=os.path.join(save_label_path,label_name)\n",
    "        \n",
    "        img=cv2.imread(move_file_path)\n",
    "        results=model.predict(img,conf=0.6,device='cuda')\n",
    "        result=results[0]\n",
    "        try:\n",
    "            if len(result.boxes) !=1:\n",
    "                continue\n",
    "\n",
    "            label_list=[]\n",
    "            for box in result.boxes:\n",
    "                xc,yc,w,h=box.xywhn.cpu().numpy()[0]\n",
    "                label_list.append(f\"{class_name} {xc} {yc} {w} {h}\\n\")\n",
    "        \n",
    "            with open(label_destination_path, 'w') as f:   \n",
    "                f.writelines(label_list)\n",
    "            f.close()\n",
    "            # shutil.copy(source_path, destination_path) (Syntax to use shutil)\n",
    "            shutil.copy(move_file_path,image_destination_path)\n",
    "        except:\n",
    "            print(len(result.boxes))\n",
    "            print(\"An error occured!\")\n",
    "\n"
   ]
  },
  {
   "cell_type": "markdown",
   "metadata": {},
   "source": [
    "#### Creating the YOLO dataset "
   ]
  },
  {
   "cell_type": "code",
   "execution_count": 1,
   "metadata": {},
   "outputs": [
    {
     "name": "stdout",
     "output_type": "stream",
     "text": [
      "Folder already exists.\n",
      "Sub-Folder already exists.\n",
      "Sub-Folder already exists.\n",
      "Folder already exists.\n",
      "Sub-Folder already exists.\n",
      "Sub-Folder already exists.\n",
      "Folder already exists.\n",
      "Sub-Folder already exists.\n",
      "Sub-Folder already exists.\n"
     ]
    }
   ],
   "source": [
    "import os\n",
    "\n",
    "yolo_folder=r'/media/cgi/440A20600A20516A/drowsy_dataset/uta_rldd_yolo'\n",
    "os.makedirs(yolo_folder,exist_ok=True)\n",
    "folder_list=['train','test','valid']\n",
    "subfolder_list=['images','labels']\n",
    "for folder in folder_list:\n",
    "    folder_path=os.path.join(yolo_folder,folder)\n",
    "    if not os.path.isdir(folder_path):\n",
    "        os.makedirs(folder_path)\n",
    "    else:\n",
    "        print(\"Folder already exists.\")\n",
    "    for subfolder in subfolder_list:\n",
    "        subfolder_path=os.path.join(folder_path,subfolder)\n",
    "        if not os.path.isdir(subfolder_path):\n",
    "            os.makedirs(subfolder_path)\n",
    "        else:\n",
    "            print(\"Sub-Folder already exists.\")"
   ]
  },
  {
   "cell_type": "code",
   "execution_count": 23,
   "metadata": {},
   "outputs": [],
   "source": [
    "import random\n",
    "import shutil\n",
    "\n",
    "move_folder_path=r'/media/cgi/440A20600A20516A/drowsy_dataset/drowsy_label'\n",
    "save_folder_path=r'/media/cgi/440A20600A20516A/drowsy_dataset/uta_rldd_yolo'\n",
    "move_folders=os.listdir(move_folder_path)\n",
    "train_list=[]\n",
    "val_list=[]\n",
    "test_list=[]\n",
    "\n",
    "#Setting the train folder path\n",
    "train_folder_path=os.path.join(save_folder_path,'train')\n",
    "train_image_path=os.path.join(train_folder_path,'images')\n",
    "train_label_path=os.path.join(train_folder_path,'labels')\n",
    "\n",
    "#Setting the valid folder path\n",
    "valid_folder_path=os.path.join(save_folder_path,'valid')\n",
    "valid_image_path=os.path.join(valid_folder_path,'images')\n",
    "valid_label_path=os.path.join(valid_folder_path,'labels')\n",
    "\n",
    "#Setting the test folder path\n",
    "test_folder_path=os.path.join(save_folder_path,'test')\n",
    "test_image_path=os.path.join(test_folder_path,'images')\n",
    "test_label_path=os.path.join(test_folder_path,'labels')\n",
    "\n",
    "for folder in move_folders:\n",
    "    number_done_list=[]\n",
    "    image_count=0\n",
    "    folder_path=os.path.join(move_folder_path,folder)\n",
    "    subfolder_path=os.path.join(folder_path,'images')\n",
    "    file_list=os.listdir(subfolder_path)\n",
    "    total_images=len(file_list)\n",
    "    train_split=int(0.7*total_images)\n",
    "    val_split=int(0.15*total_images)\n",
    "    test_split=total_images-train_split-val_split\n",
    "    file_num=[i for i in range(len(file_list))]\n",
    "\n",
    "    move_folder_class=os.path.join(move_folder_path,folder)  #move_folder_path + /0_image\n",
    "    move_folder_images=os.path.join(move_folder_class,'images') #move_folder_path + /0_image/images\n",
    "    move_folder_labels=os.path.join(move_folder_class,'labels')\n",
    "\n",
    "    while image_count<train_split:\n",
    "        random_number = random.randint(0,total_images-1)\n",
    "        while random_number in number_done_list:\n",
    "            random_number=random.randint(0,total_images-1)\n",
    "        \n",
    "        image_file=file_list[random_number]\n",
    "        label_file=file_list[random_number].split('.png')[0]+'.txt'\n",
    "\n",
    "        move_file_path=os.path.join(move_folder_images,image_file)  #move_folder_path +0_image/images/<image_path>\n",
    "        move_label_path=os.path.join(move_folder_labels,label_file)\n",
    "\n",
    "        train_image_file=os.path.join(train_image_path,image_file)\n",
    "        train_label_file=os.path.join(train_label_path,label_file)\n",
    "\n",
    "        # shutil.copy(source_path, destination_path) (Syntax to use shutil)\n",
    "        shutil.copy(move_file_path,train_image_file)\n",
    "        shutil.copy(move_label_path,train_label_file)\n",
    "\n",
    "        train_list.append(file_list[random_number])\n",
    "        number_done_list.append(random_number)\n",
    "        image_count+=1\n",
    "\n",
    "    image_count=0  #Setting it to 0 to get the files for the val folder\n",
    "    while image_count<val_split:\n",
    "        random_number = random.randint(0,total_images-1)\n",
    "        while random_number in number_done_list:\n",
    "            random_number=random.randint(0,total_images-1)\n",
    "\n",
    "        image_file=file_list[random_number]\n",
    "        label_file=file_list[random_number].split('.png')[0]+'.txt'\n",
    "\n",
    "        move_file_path=os.path.join(move_folder_images,image_file)  #move_folder_path +0_image/images/<image_path>\n",
    "        move_label_path=os.path.join(move_folder_labels,label_file)\n",
    "\n",
    "        valid_image_file=os.path.join(valid_image_path,image_file)\n",
    "        valid_label_file=os.path.join(valid_label_path,label_file)\n",
    "\n",
    "        shutil.copy(move_file_path,valid_image_file)\n",
    "        shutil.copy(move_label_path,valid_label_file)\n",
    "\n",
    "        val_list.append(file_list[random_number])\n",
    "        number_done_list.append(random_number)\n",
    "        image_count+=1\n",
    "\n",
    "    test_num=list(set(file_num)-set(number_done_list))\n",
    "    for num in test_num:\n",
    "        image_file=file_list[num]\n",
    "        label_file=file_list[num].split('.png')[0]+'.txt'\n",
    "\n",
    "        move_file_path=os.path.join(move_folder_images,image_file)  #move_folder_path +0_image/images/<image_path>\n",
    "        move_label_path=os.path.join(move_folder_labels,label_file)\n",
    "\n",
    "        test_image_file=os.path.join(test_image_path,image_file)\n",
    "        test_label_file=os.path.join(test_label_path,label_file)\n",
    "\n",
    "        shutil.copy(move_file_path,test_image_file)\n",
    "        shutil.copy(move_label_path,test_label_file)\n",
    "       \n",
    "        test_list.append(file_list[num])\n"
   ]
  },
  {
   "cell_type": "markdown",
   "metadata": {},
   "source": [
    "#### Checking if the folders were created correctly"
   ]
  },
  {
   "cell_type": "code",
   "execution_count": 20,
   "metadata": {},
   "outputs": [
    {
     "name": "stdout",
     "output_type": "stream",
     "text": [
      "Dataset looks fine!\n",
      "Dataset looks fine!\n",
      "Dataset looks fine!\n",
      "True\n",
      "True\n",
      "True\n"
     ]
    }
   ],
   "source": [
    "import os\n",
    "folder_path=r'/media/cgi/440A20600A20516A/drowsy_dataset/uta_rldd_yolo'\n",
    "folder_list=os.listdir(folder_path)\n",
    "train_list=[]\n",
    "val_list=[]\n",
    "test_list=[]\n",
    "for folder in folder_list:\n",
    "    new_folder=os.path.join(folder_path,folder)\n",
    "    # print(new_folder)\n",
    "    subfolder_list=os.listdir(new_folder)\n",
    "    label_folder_path=os.path.join(new_folder,'labels')\n",
    "    label_files_png=set([file.split('.txt')[0]+'.png' for file in os.listdir(label_folder_path)])\n",
    "    image_folder_path=os.path.join(new_folder,'images')\n",
    "    image_list=set(os.listdir(image_folder_path))\n",
    "\n",
    "    if folder =='train':\n",
    "        train_list=os.listdir(image_folder_path).copy()\n",
    "    elif folder=='valid':\n",
    "        val_list=os.listdir(image_folder_path).copy()\n",
    "    else:\n",
    "        test_list=os.listdir(image_folder_path).copy()\n",
    "\n",
    "    if len(label_files_png-image_list)!=0:\n",
    "        print(\"Some error occured\")\n",
    "    else:\n",
    "        print(\"Dataset looks fine!\")\n",
    "\n",
    "\n",
    "print(set(train_list).isdisjoint(test_list))\n",
    "print(set(train_list).isdisjoint(val_list))\n",
    "print(set(test_list).isdisjoint(val_list))\n",
    "\n",
    "\n"
   ]
  },
  {
   "cell_type": "code",
   "execution_count": 19,
   "metadata": {},
   "outputs": [
    {
     "data": {
      "text/plain": [
       "['test', 'train', 'valid']"
      ]
     },
     "execution_count": 19,
     "metadata": {},
     "output_type": "execute_result"
    }
   ],
   "source": [
    "folder_list"
   ]
  },
  {
   "cell_type": "code",
   "execution_count": 16,
   "metadata": {},
   "outputs": [
    {
     "name": "stdout",
     "output_type": "stream",
     "text": [
      "Moye Moye\n"
     ]
    }
   ],
   "source": [
    "if len(set([1,2,3])-set([1,2,3]))==0:\n",
    "    print(\"Moye Moye\")"
   ]
  },
  {
   "cell_type": "code",
   "execution_count": 7,
   "metadata": {},
   "outputs": [],
   "source": [
    "test=os.listdir(label_folder_path)"
   ]
  },
  {
   "cell_type": "code",
   "execution_count": 10,
   "metadata": {},
   "outputs": [
    {
     "data": {
      "text/plain": [
       "'01_0.mov_10220.png'"
      ]
     },
     "execution_count": 10,
     "metadata": {},
     "output_type": "execute_result"
    }
   ],
   "source": [
    "test[0].split('.txt')[0]+'.png'"
   ]
  },
  {
   "cell_type": "code",
   "execution_count": 4,
   "metadata": {},
   "outputs": [
    {
     "data": {
      "text/plain": [
       "['images', 'labels']"
      ]
     },
     "execution_count": 4,
     "metadata": {},
     "output_type": "execute_result"
    }
   ],
   "source": [
    "subfolder_list"
   ]
  },
  {
   "cell_type": "code",
   "execution_count": 22,
   "metadata": {},
   "outputs": [
    {
     "data": {
      "text/plain": [
       "'01_10.MOV_10441.txt'"
      ]
     },
     "execution_count": 22,
     "metadata": {},
     "output_type": "execute_result"
    }
   ],
   "source": [
    "file_list[0].split('.png')[0]+'.txt'"
   ]
  },
  {
   "cell_type": "code",
   "execution_count": 19,
   "metadata": {},
   "outputs": [
    {
     "data": {
      "text/plain": [
       "['0_image', '10_image']"
      ]
     },
     "execution_count": 19,
     "metadata": {},
     "output_type": "execute_result"
    }
   ],
   "source": [
    "move_folders"
   ]
  },
  {
   "cell_type": "code",
   "execution_count": 18,
   "metadata": {},
   "outputs": [
    {
     "data": {
      "text/plain": [
       "'/media/cgi/440A20600A20516A/drowsy_dataset/uta_rldd_yolo/test/images'"
      ]
     },
     "execution_count": 18,
     "metadata": {},
     "output_type": "execute_result"
    }
   ],
   "source": [
    "test_image_path"
   ]
  },
  {
   "cell_type": "code",
   "execution_count": 8,
   "metadata": {},
   "outputs": [
    {
     "data": {
      "text/plain": [
       "(12946, 2773, 2777)"
      ]
     },
     "execution_count": 8,
     "metadata": {},
     "output_type": "execute_result"
    }
   ],
   "source": [
    "len(train_list),len(val_list),len(test_list)"
   ]
  },
  {
   "cell_type": "code",
   "execution_count": 13,
   "metadata": {},
   "outputs": [
    {
     "data": {
      "text/plain": [
       "True"
      ]
     },
     "execution_count": 13,
     "metadata": {},
     "output_type": "execute_result"
    }
   ],
   "source": [
    "set(val_list).isdisjoint(set(test_list))"
   ]
  },
  {
   "cell_type": "code",
   "execution_count": 10,
   "metadata": {},
   "outputs": [
    {
     "data": {
      "text/plain": [
       "12946"
      ]
     },
     "execution_count": 10,
     "metadata": {},
     "output_type": "execute_result"
    }
   ],
   "source": [
    "len(set(train_list)-set(val_list))"
   ]
  },
  {
   "cell_type": "code",
   "execution_count": 192,
   "metadata": {},
   "outputs": [
    {
     "data": {
      "text/plain": [
       "'01_10.MOV_10441.png'"
      ]
     },
     "execution_count": 192,
     "metadata": {},
     "output_type": "execute_result"
    }
   ],
   "source": [
    "file_list[0]"
   ]
  },
  {
   "cell_type": "code",
   "execution_count": 191,
   "metadata": {},
   "outputs": [
    {
     "data": {
      "text/plain": [
       "(6885, 1477, 1475)"
      ]
     },
     "execution_count": 191,
     "metadata": {},
     "output_type": "execute_result"
    }
   ],
   "source": [
    "train_split,test_split,val_split"
   ]
  },
  {
   "cell_type": "code",
   "execution_count": 188,
   "metadata": {},
   "outputs": [
    {
     "data": {
      "text/plain": [
       "6885"
      ]
     },
     "execution_count": 188,
     "metadata": {},
     "output_type": "execute_result"
    }
   ],
   "source": [
    "int(len(file_list)*0.7)"
   ]
  },
  {
   "cell_type": "code",
   "execution_count": 172,
   "metadata": {},
   "outputs": [],
   "source": [
    "if result.boxes is None:\n",
    "    print(\"hihiho\")"
   ]
  },
  {
   "cell_type": "code",
   "execution_count": 144,
   "metadata": {},
   "outputs": [
    {
     "data": {
      "text/plain": [
       "'/media/cgi/440A20600A20516A/drowsy_dataset/drowsy_label/0_image/labels/24_0.mp4_2152.txt'"
      ]
     },
     "execution_count": 144,
     "metadata": {},
     "output_type": "execute_result"
    }
   ],
   "source": [
    "label_destination_path"
   ]
  },
  {
   "cell_type": "code",
   "execution_count": 141,
   "metadata": {},
   "outputs": [
    {
     "data": {
      "text/plain": [
       "'24_0.mp4_2152'"
      ]
     },
     "execution_count": 141,
     "metadata": {},
     "output_type": "execute_result"
    }
   ],
   "source": [
    "file.split('.png')[0]"
   ]
  },
  {
   "cell_type": "code",
   "execution_count": 124,
   "metadata": {},
   "outputs": [
    {
     "data": {
      "text/plain": [
       "'10 0.05 0.06 0.07 0.08\\n'"
      ]
     },
     "execution_count": 124,
     "metadata": {},
     "output_type": "execute_result"
    }
   ],
   "source": [
    "new_string"
   ]
  },
  {
   "cell_type": "code",
   "execution_count": 109,
   "metadata": {},
   "outputs": [
    {
     "data": {
      "text/plain": [
       "'0'"
      ]
     },
     "execution_count": 109,
     "metadata": {},
     "output_type": "execute_result"
    }
   ],
   "source": [
    "move_folders[0].split(\"_\")[0]"
   ]
  },
  {
   "cell_type": "code",
   "execution_count": 56,
   "metadata": {},
   "outputs": [
    {
     "data": {
      "text/plain": [
       "(1920, 1080, 3)"
      ]
     },
     "execution_count": 56,
     "metadata": {},
     "output_type": "execute_result"
    }
   ],
   "source": [
    "result=model"
   ]
  },
  {
   "cell_type": "code",
   "execution_count": null,
   "metadata": {},
   "outputs": [],
   "source": [
    "zero_path=r'/media/cgi/440A20600A20516A/drowsy_dataset/0'\n"
   ]
  }
 ],
 "metadata": {
  "kernelspec": {
   "display_name": "drive",
   "language": "python",
   "name": "python3"
  },
  "language_info": {
   "codemirror_mode": {
    "name": "ipython",
    "version": 3
   },
   "file_extension": ".py",
   "mimetype": "text/x-python",
   "name": "python",
   "nbconvert_exporter": "python",
   "pygments_lexer": "ipython3",
   "version": "3.1.undefined"
  }
 },
 "nbformat": 4,
 "nbformat_minor": 2
}
